{
  "nbformat": 4,
  "nbformat_minor": 0,
  "metadata": {
    "colab": {
      "provenance": [],
      "collapsed_sections": []
    },
    "kernelspec": {
      "name": "python3",
      "display_name": "Python 3"
    },
    "language_info": {
      "name": "python"
    }
  },
  "cells": [
    {
      "cell_type": "code",
      "execution_count": null,
      "metadata": {
        "colab": {
          "base_uri": "https://localhost:8080/"
        },
        "id": "H5q0jJ7DC-LF",
        "outputId": "7687b67c-c325-43cd-c657-12f6bef4efcc"
      },
      "outputs": [
        {
          "output_type": "stream",
          "name": "stdout",
          "text": [
            "Mounted at /content/drive\n"
          ]
        }
      ],
      "source": [
        "from google.colab import drive\n",
        "drive.mount('/content/drive')"
      ]
    },
    {
      "cell_type": "code",
      "source": [
        "import librosa\n",
        "import pandas as pd\n",
        "import numpy as np\n",
        "import matplotlib.pyplot as plt\n",
        "%matplotlib inline"
      ],
      "metadata": {
        "id": "x5M1BpwbFOBC"
      },
      "execution_count": null,
      "outputs": []
    },
    {
      "cell_type": "code",
      "source": [
        "\n",
        "import os\n",
        "import glob\n",
        "import time\n",
        "import os\n",
        "from PIL import Image\n",
        "import pathlib\n",
        "import csv\n",
        "import warnings\n",
        "warnings.filterwarnings('ignore')\n",
        "from tqdm import tqdm"
      ],
      "metadata": {
        "id": "QK0pJYzTMLWN"
      },
      "execution_count": null,
      "outputs": []
    },
    {
      "cell_type": "code",
      "source": [
        "emg_len =[]\n",
        "test_path_em = '/content/drive/MyDrive/cleaned_data/eval_balanced/Emergency'\n",
        "test_path_nonem = '/content/drive/MyDrive/cleaned_data/eval_balanced/nonEmergency'\n",
        "\n",
        "test_em_files = glob.glob(os.path.join(test_path_em, '*.wav'))\n",
        "test_nonem_files = glob.glob(os.path.join(test_path_nonem, '*.wav'))   \n",
        "for fn in tqdm(test_em_files):\n",
        "    y, sr = librosa.load(fn, sr=8000)\n",
        "    c = librosa.get_duration(y=y , sr=sr)\n",
        "    emg_len.append(c)"
      ],
      "metadata": {
        "colab": {
          "base_uri": "https://localhost:8080/"
        },
        "id": "iSAl7DV8MOX1",
        "outputId": "16382b52-fdeb-4e77-86db-ad2163a625b3"
      },
      "execution_count": null,
      "outputs": [
        {
          "output_type": "stream",
          "name": "stderr",
          "text": [
            "100%|██████████| 134/134 [00:36<00:00,  3.71it/s]\n"
          ]
        }
      ]
    },
    {
      "cell_type": "code",
      "source": [
        "nonemg_len = []\n",
        "for fn in tqdm(test_nonem_files):\n",
        "    y, sr = librosa.load(fn, sr=8000)\n",
        "    d = librosa.get_duration(y=y , sr=sr)\n",
        "    nonemg_len.append(d)"
      ],
      "metadata": {
        "colab": {
          "base_uri": "https://localhost:8080/"
        },
        "id": "_2JCAXEdNls0",
        "outputId": "c8375d60-37b4-4740-fcb5-74a3668eb5cf"
      },
      "execution_count": null,
      "outputs": [
        {
          "output_type": "stream",
          "name": "stderr",
          "text": [
            "100%|██████████| 105/105 [00:57<00:00,  1.83it/s]\n"
          ]
        }
      ]
    },
    {
      "cell_type": "code",
      "source": [
        "print(min(emg_len))\n",
        "print(max(emg_len))\n",
        "print(min(nonemg_len))\n",
        "print(max(nonemg_len))"
      ],
      "metadata": {
        "colab": {
          "base_uri": "https://localhost:8080/"
        },
        "id": "oO--ky03OhAm",
        "outputId": "a8298a92-f533-4cd1-a564-722ce6a57406"
      },
      "execution_count": null,
      "outputs": [
        {
          "output_type": "stream",
          "name": "stdout",
          "text": [
            "2.040875\n",
            "10.031125\n",
            "0.97525\n",
            "10.031125\n"
          ]
        }
      ]
    },
    {
      "cell_type": "code",
      "source": [
        "file = open('dataset.csv', 'w', newline='')"
      ],
      "metadata": {
        "id": "5ek-VpToQAA7"
      },
      "execution_count": null,
      "outputs": []
    },
    {
      "cell_type": "code",
      "source": [
        "g=\"Emergency\"\n",
        "test_path_em = '/content/drive/MyDrive/cleaned_data/eval_balanced/Emergency'\n",
        "test_em_files = glob.glob(os.path.join(test_path_em, '*.wav'))\n",
        "for fn in tqdm(test_em_files):\n",
        "    y, sr = librosa.load(fn, sr=8000,duration=1.2)\n",
        "    rmse = librosa.feature.rms(y=y)\n",
        "    chroma_stft = librosa.feature.chroma_stft(y=y, sr=sr)\n",
        "    spec_cent = librosa.feature.spectral_centroid(y=y, sr=sr)\n",
        "    spec_bw = librosa.feature.spectral_bandwidth(y=y, sr=sr)\n",
        "    rolloff = librosa.feature.spectral_rolloff(y=y, sr=sr)\n",
        "    zcr = librosa.feature.zero_crossing_rate(y)\n",
        "    mfcc = librosa.feature.mfcc(y=y, sr=sr)\n",
        "    to_append = f'{fn} {np.mean(chroma_stft)} {np.mean(rmse)} {np.mean(spec_cent)} {np.mean(spec_bw)} {np.mean(rolloff)} {np.mean(zcr)}'    \n",
        "    for e in mfcc:\n",
        "        to_append += f' {np.mean(e)}'\n",
        "    to_append += f' {g}'\n",
        "    file = open('dataset.csv', 'a', newline='')\n",
        "    with file:\n",
        "        writer = csv.writer(file)\n",
        "        writer.writerow(to_append.split())"
      ],
      "metadata": {
        "colab": {
          "base_uri": "https://localhost:8080/"
        },
        "id": "zNklAdQAQHAu",
        "outputId": "38c3c7e0-0d6a-4859-ea11-b99749149a28"
      },
      "execution_count": null,
      "outputs": [
        {
          "output_type": "stream",
          "name": "stderr",
          "text": [
            "100%|██████████| 134/134 [00:12<00:00, 10.85it/s]\n"
          ]
        }
      ]
    },
    {
      "cell_type": "code",
      "source": [
        "col_names = [\"fn\",\"chroma_stft\",\"spectral_centroid\",\"spectral_bandwidth\",\"rolloff\",\"zero_crossing_rate\",\"mfcc1\",\"mfcc2\",\"mfcc3\",\"mfcc4\",\"mfcc5\",\"mfcc6\",\"mfcc7\",\"mfcc8\",\"mfcc9\",\"mfcc10\",\"mfcc11\",\"mfcc12\",\"mfcc13\",\"mfcc14\",\"mfcc15\",\"mfcc16\",\"mfcc17\",\"mfcc18\",\"mfcc19\",\"mfcc20\",\"label\" ]\n",
        "data = pd.read_csv(\"dataset.csv\", names=col_names)"
      ],
      "metadata": {
        "id": "Se9VBMVnQps5"
      },
      "execution_count": null,
      "outputs": []
    },
    {
      "cell_type": "code",
      "source": [
        "data.head()"
      ],
      "metadata": {
        "id": "7iIKrdT3Qxir",
        "colab": {
          "base_uri": "https://localhost:8080/",
          "height": 299
        },
        "outputId": "4f44417a-802a-4ef9-b256-feea84d64f46"
      },
      "execution_count": null,
      "outputs": [
        {
          "output_type": "execute_result",
          "data": {
            "text/plain": [
              "                                                          fn  chroma_stft  \\\n",
              "/content/drive/MyDrive/cleaned_data/eval_balanc...  0.359888     0.022418   \n",
              "/content/drive/MyDrive/cleaned_data/eval_balanc...  0.184713     0.261795   \n",
              "/content/drive/MyDrive/cleaned_data/eval_balanc...  0.296703     0.086959   \n",
              "/content/drive/MyDrive/cleaned_data/eval_balanc...  0.236266     0.150544   \n",
              "/content/drive/MyDrive/cleaned_data/eval_balanc...  0.398128     0.172077   \n",
              "\n",
              "                                                    spectral_centroid  \\\n",
              "/content/drive/MyDrive/cleaned_data/eval_balanc...        1691.023429   \n",
              "/content/drive/MyDrive/cleaned_data/eval_balanc...        1386.270311   \n",
              "/content/drive/MyDrive/cleaned_data/eval_balanc...        1110.008709   \n",
              "/content/drive/MyDrive/cleaned_data/eval_balanc...        1630.643238   \n",
              "/content/drive/MyDrive/cleaned_data/eval_balanc...        1121.344126   \n",
              "\n",
              "                                                    spectral_bandwidth  \\\n",
              "/content/drive/MyDrive/cleaned_data/eval_balanc...         1050.217875   \n",
              "/content/drive/MyDrive/cleaned_data/eval_balanc...          867.037838   \n",
              "/content/drive/MyDrive/cleaned_data/eval_balanc...          823.776240   \n",
              "/content/drive/MyDrive/cleaned_data/eval_balanc...         1015.411253   \n",
              "/content/drive/MyDrive/cleaned_data/eval_balanc...          880.769551   \n",
              "\n",
              "                                                        rolloff  \\\n",
              "/content/drive/MyDrive/cleaned_data/eval_balanc...  3053.865132   \n",
              "/content/drive/MyDrive/cleaned_data/eval_balanc...  2484.991776   \n",
              "/content/drive/MyDrive/cleaned_data/eval_balanc...  1973.273026   \n",
              "/content/drive/MyDrive/cleaned_data/eval_balanc...  3015.008224   \n",
              "/content/drive/MyDrive/cleaned_data/eval_balanc...  2095.805921   \n",
              "\n",
              "                                                    zero_crossing_rate  \\\n",
              "/content/drive/MyDrive/cleaned_data/eval_balanc...            0.341797   \n",
              "/content/drive/MyDrive/cleaned_data/eval_balanc...            0.250051   \n",
              "/content/drive/MyDrive/cleaned_data/eval_balanc...            0.219521   \n",
              "/content/drive/MyDrive/cleaned_data/eval_balanc...            0.328253   \n",
              "/content/drive/MyDrive/cleaned_data/eval_balanc...            0.208316   \n",
              "\n",
              "                                                         mfcc1      mfcc2  \\\n",
              "/content/drive/MyDrive/cleaned_data/eval_balanc... -176.199875   9.396546   \n",
              "/content/drive/MyDrive/cleaned_data/eval_balanc...   16.246666  31.595346   \n",
              "/content/drive/MyDrive/cleaned_data/eval_balanc...  -71.506096  77.245155   \n",
              "/content/drive/MyDrive/cleaned_data/eval_balanc...  -65.522743  22.495201   \n",
              "/content/drive/MyDrive/cleaned_data/eval_balanc...   25.736961  76.779335   \n",
              "\n",
              "                                                        mfcc3      mfcc4  ...  \\\n",
              "/content/drive/MyDrive/cleaned_data/eval_balanc... -26.900452 -23.563782  ...   \n",
              "/content/drive/MyDrive/cleaned_data/eval_balanc... -43.716919   4.178284  ...   \n",
              "/content/drive/MyDrive/cleaned_data/eval_balanc... -39.881645  10.596503  ...   \n",
              "/content/drive/MyDrive/cleaned_data/eval_balanc...  -3.594737  14.181441  ...   \n",
              "/content/drive/MyDrive/cleaned_data/eval_balanc... -33.327293  10.376517  ...   \n",
              "\n",
              "                                                       mfcc12     mfcc13  \\\n",
              "/content/drive/MyDrive/cleaned_data/eval_balanc...  11.180789  -4.846173   \n",
              "/content/drive/MyDrive/cleaned_data/eval_balanc...  11.812840  -3.162781   \n",
              "/content/drive/MyDrive/cleaned_data/eval_balanc...   5.542479 -17.292812   \n",
              "/content/drive/MyDrive/cleaned_data/eval_balanc...  27.544928   9.073138   \n",
              "/content/drive/MyDrive/cleaned_data/eval_balanc...  -4.165341 -19.773989   \n",
              "\n",
              "                                                      mfcc14     mfcc15  \\\n",
              "/content/drive/MyDrive/cleaned_data/eval_balanc...  5.861305 -12.960463   \n",
              "/content/drive/MyDrive/cleaned_data/eval_balanc...  1.284324 -14.624017   \n",
              "/content/drive/MyDrive/cleaned_data/eval_balanc... -1.127933 -19.014076   \n",
              "/content/drive/MyDrive/cleaned_data/eval_balanc... -2.342510 -41.532642   \n",
              "/content/drive/MyDrive/cleaned_data/eval_balanc...  1.516146 -23.156332   \n",
              "\n",
              "                                                       mfcc16     mfcc17  \\\n",
              "/content/drive/MyDrive/cleaned_data/eval_balanc...   0.016321  -8.153287   \n",
              "/content/drive/MyDrive/cleaned_data/eval_balanc...  12.920669  -4.154139   \n",
              "/content/drive/MyDrive/cleaned_data/eval_balanc...  -2.651380 -13.399012   \n",
              "/content/drive/MyDrive/cleaned_data/eval_balanc...  13.235374  -1.654400   \n",
              "/content/drive/MyDrive/cleaned_data/eval_balanc...  15.485725 -10.933682   \n",
              "\n",
              "                                                       mfcc18     mfcc19  \\\n",
              "/content/drive/MyDrive/cleaned_data/eval_balanc...   5.809633 -16.402901   \n",
              "/content/drive/MyDrive/cleaned_data/eval_balanc...  12.581067 -10.153343   \n",
              "/content/drive/MyDrive/cleaned_data/eval_balanc...   6.426832  -8.545753   \n",
              "/content/drive/MyDrive/cleaned_data/eval_balanc... -11.185779 -14.710364   \n",
              "/content/drive/MyDrive/cleaned_data/eval_balanc...  -2.958074 -12.240003   \n",
              "\n",
              "                                                       mfcc20      label  \n",
              "/content/drive/MyDrive/cleaned_data/eval_balanc...   1.043569  Emergency  \n",
              "/content/drive/MyDrive/cleaned_data/eval_balanc...   7.445230  Emergency  \n",
              "/content/drive/MyDrive/cleaned_data/eval_balanc...   3.339379  Emergency  \n",
              "/content/drive/MyDrive/cleaned_data/eval_balanc...  15.451639  Emergency  \n",
              "/content/drive/MyDrive/cleaned_data/eval_balanc...  -1.391870  Emergency  \n",
              "\n",
              "[5 rows x 27 columns]"
            ],
            "text/html": [
              "\n",
              "  <div id=\"df-50fe7717-4957-4510-909e-2b9b5eb0ebea\">\n",
              "    <div class=\"colab-df-container\">\n",
              "      <div>\n",
              "<style scoped>\n",
              "    .dataframe tbody tr th:only-of-type {\n",
              "        vertical-align: middle;\n",
              "    }\n",
              "\n",
              "    .dataframe tbody tr th {\n",
              "        vertical-align: top;\n",
              "    }\n",
              "\n",
              "    .dataframe thead th {\n",
              "        text-align: right;\n",
              "    }\n",
              "</style>\n",
              "<table border=\"1\" class=\"dataframe\">\n",
              "  <thead>\n",
              "    <tr style=\"text-align: right;\">\n",
              "      <th></th>\n",
              "      <th>fn</th>\n",
              "      <th>chroma_stft</th>\n",
              "      <th>spectral_centroid</th>\n",
              "      <th>spectral_bandwidth</th>\n",
              "      <th>rolloff</th>\n",
              "      <th>zero_crossing_rate</th>\n",
              "      <th>mfcc1</th>\n",
              "      <th>mfcc2</th>\n",
              "      <th>mfcc3</th>\n",
              "      <th>mfcc4</th>\n",
              "      <th>...</th>\n",
              "      <th>mfcc12</th>\n",
              "      <th>mfcc13</th>\n",
              "      <th>mfcc14</th>\n",
              "      <th>mfcc15</th>\n",
              "      <th>mfcc16</th>\n",
              "      <th>mfcc17</th>\n",
              "      <th>mfcc18</th>\n",
              "      <th>mfcc19</th>\n",
              "      <th>mfcc20</th>\n",
              "      <th>label</th>\n",
              "    </tr>\n",
              "  </thead>\n",
              "  <tbody>\n",
              "    <tr>\n",
              "      <th>/content/drive/MyDrive/cleaned_data/eval_balanced/Emergency/111.wav</th>\n",
              "      <td>0.359888</td>\n",
              "      <td>0.022418</td>\n",
              "      <td>1691.023429</td>\n",
              "      <td>1050.217875</td>\n",
              "      <td>3053.865132</td>\n",
              "      <td>0.341797</td>\n",
              "      <td>-176.199875</td>\n",
              "      <td>9.396546</td>\n",
              "      <td>-26.900452</td>\n",
              "      <td>-23.563782</td>\n",
              "      <td>...</td>\n",
              "      <td>11.180789</td>\n",
              "      <td>-4.846173</td>\n",
              "      <td>5.861305</td>\n",
              "      <td>-12.960463</td>\n",
              "      <td>0.016321</td>\n",
              "      <td>-8.153287</td>\n",
              "      <td>5.809633</td>\n",
              "      <td>-16.402901</td>\n",
              "      <td>1.043569</td>\n",
              "      <td>Emergency</td>\n",
              "    </tr>\n",
              "    <tr>\n",
              "      <th>/content/drive/MyDrive/cleaned_data/eval_balanced/Emergency/38.wav</th>\n",
              "      <td>0.184713</td>\n",
              "      <td>0.261795</td>\n",
              "      <td>1386.270311</td>\n",
              "      <td>867.037838</td>\n",
              "      <td>2484.991776</td>\n",
              "      <td>0.250051</td>\n",
              "      <td>16.246666</td>\n",
              "      <td>31.595346</td>\n",
              "      <td>-43.716919</td>\n",
              "      <td>4.178284</td>\n",
              "      <td>...</td>\n",
              "      <td>11.812840</td>\n",
              "      <td>-3.162781</td>\n",
              "      <td>1.284324</td>\n",
              "      <td>-14.624017</td>\n",
              "      <td>12.920669</td>\n",
              "      <td>-4.154139</td>\n",
              "      <td>12.581067</td>\n",
              "      <td>-10.153343</td>\n",
              "      <td>7.445230</td>\n",
              "      <td>Emergency</td>\n",
              "    </tr>\n",
              "    <tr>\n",
              "      <th>/content/drive/MyDrive/cleaned_data/eval_balanced/Emergency/116.wav</th>\n",
              "      <td>0.296703</td>\n",
              "      <td>0.086959</td>\n",
              "      <td>1110.008709</td>\n",
              "      <td>823.776240</td>\n",
              "      <td>1973.273026</td>\n",
              "      <td>0.219521</td>\n",
              "      <td>-71.506096</td>\n",
              "      <td>77.245155</td>\n",
              "      <td>-39.881645</td>\n",
              "      <td>10.596503</td>\n",
              "      <td>...</td>\n",
              "      <td>5.542479</td>\n",
              "      <td>-17.292812</td>\n",
              "      <td>-1.127933</td>\n",
              "      <td>-19.014076</td>\n",
              "      <td>-2.651380</td>\n",
              "      <td>-13.399012</td>\n",
              "      <td>6.426832</td>\n",
              "      <td>-8.545753</td>\n",
              "      <td>3.339379</td>\n",
              "      <td>Emergency</td>\n",
              "    </tr>\n",
              "    <tr>\n",
              "      <th>/content/drive/MyDrive/cleaned_data/eval_balanced/Emergency/16.wav</th>\n",
              "      <td>0.236266</td>\n",
              "      <td>0.150544</td>\n",
              "      <td>1630.643238</td>\n",
              "      <td>1015.411253</td>\n",
              "      <td>3015.008224</td>\n",
              "      <td>0.328253</td>\n",
              "      <td>-65.522743</td>\n",
              "      <td>22.495201</td>\n",
              "      <td>-3.594737</td>\n",
              "      <td>14.181441</td>\n",
              "      <td>...</td>\n",
              "      <td>27.544928</td>\n",
              "      <td>9.073138</td>\n",
              "      <td>-2.342510</td>\n",
              "      <td>-41.532642</td>\n",
              "      <td>13.235374</td>\n",
              "      <td>-1.654400</td>\n",
              "      <td>-11.185779</td>\n",
              "      <td>-14.710364</td>\n",
              "      <td>15.451639</td>\n",
              "      <td>Emergency</td>\n",
              "    </tr>\n",
              "    <tr>\n",
              "      <th>/content/drive/MyDrive/cleaned_data/eval_balanced/Emergency/102.wav</th>\n",
              "      <td>0.398128</td>\n",
              "      <td>0.172077</td>\n",
              "      <td>1121.344126</td>\n",
              "      <td>880.769551</td>\n",
              "      <td>2095.805921</td>\n",
              "      <td>0.208316</td>\n",
              "      <td>25.736961</td>\n",
              "      <td>76.779335</td>\n",
              "      <td>-33.327293</td>\n",
              "      <td>10.376517</td>\n",
              "      <td>...</td>\n",
              "      <td>-4.165341</td>\n",
              "      <td>-19.773989</td>\n",
              "      <td>1.516146</td>\n",
              "      <td>-23.156332</td>\n",
              "      <td>15.485725</td>\n",
              "      <td>-10.933682</td>\n",
              "      <td>-2.958074</td>\n",
              "      <td>-12.240003</td>\n",
              "      <td>-1.391870</td>\n",
              "      <td>Emergency</td>\n",
              "    </tr>\n",
              "  </tbody>\n",
              "</table>\n",
              "<p>5 rows × 27 columns</p>\n",
              "</div>\n",
              "      <button class=\"colab-df-convert\" onclick=\"convertToInteractive('df-50fe7717-4957-4510-909e-2b9b5eb0ebea')\"\n",
              "              title=\"Convert this dataframe to an interactive table.\"\n",
              "              style=\"display:none;\">\n",
              "        \n",
              "  <svg xmlns=\"http://www.w3.org/2000/svg\" height=\"24px\"viewBox=\"0 0 24 24\"\n",
              "       width=\"24px\">\n",
              "    <path d=\"M0 0h24v24H0V0z\" fill=\"none\"/>\n",
              "    <path d=\"M18.56 5.44l.94 2.06.94-2.06 2.06-.94-2.06-.94-.94-2.06-.94 2.06-2.06.94zm-11 1L8.5 8.5l.94-2.06 2.06-.94-2.06-.94L8.5 2.5l-.94 2.06-2.06.94zm10 10l.94 2.06.94-2.06 2.06-.94-2.06-.94-.94-2.06-.94 2.06-2.06.94z\"/><path d=\"M17.41 7.96l-1.37-1.37c-.4-.4-.92-.59-1.43-.59-.52 0-1.04.2-1.43.59L10.3 9.45l-7.72 7.72c-.78.78-.78 2.05 0 2.83L4 21.41c.39.39.9.59 1.41.59.51 0 1.02-.2 1.41-.59l7.78-7.78 2.81-2.81c.8-.78.8-2.07 0-2.86zM5.41 20L4 18.59l7.72-7.72 1.47 1.35L5.41 20z\"/>\n",
              "  </svg>\n",
              "      </button>\n",
              "      \n",
              "  <style>\n",
              "    .colab-df-container {\n",
              "      display:flex;\n",
              "      flex-wrap:wrap;\n",
              "      gap: 12px;\n",
              "    }\n",
              "\n",
              "    .colab-df-convert {\n",
              "      background-color: #E8F0FE;\n",
              "      border: none;\n",
              "      border-radius: 50%;\n",
              "      cursor: pointer;\n",
              "      display: none;\n",
              "      fill: #1967D2;\n",
              "      height: 32px;\n",
              "      padding: 0 0 0 0;\n",
              "      width: 32px;\n",
              "    }\n",
              "\n",
              "    .colab-df-convert:hover {\n",
              "      background-color: #E2EBFA;\n",
              "      box-shadow: 0px 1px 2px rgba(60, 64, 67, 0.3), 0px 1px 3px 1px rgba(60, 64, 67, 0.15);\n",
              "      fill: #174EA6;\n",
              "    }\n",
              "\n",
              "    [theme=dark] .colab-df-convert {\n",
              "      background-color: #3B4455;\n",
              "      fill: #D2E3FC;\n",
              "    }\n",
              "\n",
              "    [theme=dark] .colab-df-convert:hover {\n",
              "      background-color: #434B5C;\n",
              "      box-shadow: 0px 1px 3px 1px rgba(0, 0, 0, 0.15);\n",
              "      filter: drop-shadow(0px 1px 2px rgba(0, 0, 0, 0.3));\n",
              "      fill: #FFFFFF;\n",
              "    }\n",
              "  </style>\n",
              "\n",
              "      <script>\n",
              "        const buttonEl =\n",
              "          document.querySelector('#df-50fe7717-4957-4510-909e-2b9b5eb0ebea button.colab-df-convert');\n",
              "        buttonEl.style.display =\n",
              "          google.colab.kernel.accessAllowed ? 'block' : 'none';\n",
              "\n",
              "        async function convertToInteractive(key) {\n",
              "          const element = document.querySelector('#df-50fe7717-4957-4510-909e-2b9b5eb0ebea');\n",
              "          const dataTable =\n",
              "            await google.colab.kernel.invokeFunction('convertToInteractive',\n",
              "                                                     [key], {});\n",
              "          if (!dataTable) return;\n",
              "\n",
              "          const docLinkHtml = 'Like what you see? Visit the ' +\n",
              "            '<a target=\"_blank\" href=https://colab.research.google.com/notebooks/data_table.ipynb>data table notebook</a>'\n",
              "            + ' to learn more about interactive tables.';\n",
              "          element.innerHTML = '';\n",
              "          dataTable['output_type'] = 'display_data';\n",
              "          await google.colab.output.renderOutput(dataTable, element);\n",
              "          const docLink = document.createElement('div');\n",
              "          docLink.innerHTML = docLinkHtml;\n",
              "          element.appendChild(docLink);\n",
              "        }\n",
              "      </script>\n",
              "    </div>\n",
              "  </div>\n",
              "  "
            ]
          },
          "metadata": {},
          "execution_count": 10
        }
      ]
    },
    {
      "cell_type": "code",
      "source": [
        "file_1 = open('dataset_1.csv', 'w', newline='')"
      ],
      "metadata": {
        "id": "9AnJqNPTQ102"
      },
      "execution_count": null,
      "outputs": []
    },
    {
      "cell_type": "code",
      "source": [
        "k=\"NonEmergency\"\n",
        "test_path_nonem = '/content/drive/MyDrive/cleaned_data/eval_balanced/nonEmergency'\n",
        "test_nonem_files = glob.glob(os.path.join(test_path_nonem, '*.wav'))\n",
        "for fn in tqdm(test_nonem_files):\n",
        "    y, sr = librosa.load(fn, sr=8000, duration=1.2)\n",
        "    rmse = librosa.feature.rms(y=y)\n",
        "    chroma_stft = librosa.feature.chroma_stft(y=y, sr=sr)\n",
        "    spec_cent = librosa.feature.spectral_centroid(y=y, sr=sr)\n",
        "    spec_bw = librosa.feature.spectral_bandwidth(y=y, sr=sr)\n",
        "    rolloff = librosa.feature.spectral_rolloff(y=y, sr=sr)\n",
        "    zcr = librosa.feature.zero_crossing_rate(y)\n",
        "    mfcc = librosa.feature.mfcc(y=y, sr=sr)\n",
        "    to_append = f'{fn} {np.mean(chroma_stft)} {np.mean(rmse)} {np.mean(spec_cent)} {np.mean(spec_bw)} {np.mean(rolloff)} {np.mean(zcr)}'    \n",
        "    for e in mfcc:\n",
        "        to_append += f' {np.mean(e)}'\n",
        "    to_append += f' {k}'\n",
        "    file_1 = open('dataset_1.csv', 'a', newline='')\n",
        "    with file_1:\n",
        "        writer = csv.writer(file_1)\n",
        "        writer.writerow(to_append.split())"
      ],
      "metadata": {
        "id": "xYWWclx5Q9Is",
        "colab": {
          "base_uri": "https://localhost:8080/"
        },
        "outputId": "ce84e263-7e85-4cc3-cf25-e7cd5b7ce6f0"
      },
      "execution_count": null,
      "outputs": [
        {
          "output_type": "stream",
          "name": "stderr",
          "text": [
            "100%|██████████| 105/105 [00:10<00:00,  9.56it/s]\n"
          ]
        }
      ]
    },
    {
      "cell_type": "code",
      "source": [
        "col_names = [\"fn\",\"chroma_stft\",\"spectral_centroid\",\"spectral_bandwidth\",\"rolloff\",\"zero_crossing_rate\",\"mfcc1\",\"mfcc2\",\"mfcc3\",\"mfcc4\",\"mfcc5\",\"mfcc6\",\"mfcc7\",\"mfcc8\",\"mfcc9\",\"mfcc10\",\"mfcc11\",\"mfcc12\",\"mfcc13\",\"mfcc14\",\"mfcc15\",\"mfcc16\",\"mfcc17\",\"mfcc18\",\"mfcc19\",\"mfcc20\",\"label\" ]\n",
        "data_1 = pd.read_csv(\"dataset_1.csv\", names=col_names)"
      ],
      "metadata": {
        "id": "JobUHVMzRU40"
      },
      "execution_count": null,
      "outputs": []
    },
    {
      "cell_type": "code",
      "source": [
        "data_1.head()"
      ],
      "metadata": {
        "id": "vinzQahZRZeP",
        "colab": {
          "base_uri": "https://localhost:8080/",
          "height": 299
        },
        "outputId": "fdc9f92c-a07e-4935-8501-0398ad6ca6b8"
      },
      "execution_count": null,
      "outputs": [
        {
          "output_type": "execute_result",
          "data": {
            "text/plain": [
              "                                                          fn  chroma_stft  \\\n",
              "/content/drive/MyDrive/cleaned_data/eval_balanc...  0.000000     0.000000   \n",
              "/content/drive/MyDrive/cleaned_data/eval_balanc...  0.378013     0.008660   \n",
              "/content/drive/MyDrive/cleaned_data/eval_balanc...  0.369651     0.153829   \n",
              "/content/drive/MyDrive/cleaned_data/eval_balanc...  0.201255     0.153586   \n",
              "/content/drive/MyDrive/cleaned_data/eval_balanc...  0.659377     0.013416   \n",
              "\n",
              "                                                    spectral_centroid  \\\n",
              "/content/drive/MyDrive/cleaned_data/eval_balanc...           0.000000   \n",
              "/content/drive/MyDrive/cleaned_data/eval_balanc...        1385.118361   \n",
              "/content/drive/MyDrive/cleaned_data/eval_balanc...        1443.665702   \n",
              "/content/drive/MyDrive/cleaned_data/eval_balanc...         717.285793   \n",
              "/content/drive/MyDrive/cleaned_data/eval_balanc...        1620.158233   \n",
              "\n",
              "                                                    spectral_bandwidth  \\\n",
              "/content/drive/MyDrive/cleaned_data/eval_balanc...            0.000000   \n",
              "/content/drive/MyDrive/cleaned_data/eval_balanc...          929.901200   \n",
              "/content/drive/MyDrive/cleaned_data/eval_balanc...          949.954131   \n",
              "/content/drive/MyDrive/cleaned_data/eval_balanc...          692.383826   \n",
              "/content/drive/MyDrive/cleaned_data/eval_balanc...         1054.407797   \n",
              "\n",
              "                                                        rolloff  \\\n",
              "/content/drive/MyDrive/cleaned_data/eval_balanc...     0.000000   \n",
              "/content/drive/MyDrive/cleaned_data/eval_balanc...  2471.833882   \n",
              "/content/drive/MyDrive/cleaned_data/eval_balanc...  2636.513158   \n",
              "/content/drive/MyDrive/cleaned_data/eval_balanc...  1209.498355   \n",
              "/content/drive/MyDrive/cleaned_data/eval_balanc...  2938.527961   \n",
              "\n",
              "                                                    zero_crossing_rate  \\\n",
              "/content/drive/MyDrive/cleaned_data/eval_balanc...            0.000000   \n",
              "/content/drive/MyDrive/cleaned_data/eval_balanc...            0.216103   \n",
              "/content/drive/MyDrive/cleaned_data/eval_balanc...            0.273977   \n",
              "/content/drive/MyDrive/cleaned_data/eval_balanc...            0.078819   \n",
              "/content/drive/MyDrive/cleaned_data/eval_balanc...            0.316895   \n",
              "\n",
              "                                                          mfcc1       mfcc2  \\\n",
              "/content/drive/MyDrive/cleaned_data/eval_balanc... -1131.370850    0.000000   \n",
              "/content/drive/MyDrive/cleaned_data/eval_balanc...  -331.451355   41.033829   \n",
              "/content/drive/MyDrive/cleaned_data/eval_balanc...    19.256922   31.000765   \n",
              "/content/drive/MyDrive/cleaned_data/eval_balanc...   -97.409050  122.995461   \n",
              "/content/drive/MyDrive/cleaned_data/eval_balanc...  -206.687820   28.353741   \n",
              "\n",
              "                                                        mfcc3      mfcc4  ...  \\\n",
              "/content/drive/MyDrive/cleaned_data/eval_balanc...   0.000000   0.000000  ...   \n",
              "/content/drive/MyDrive/cleaned_data/eval_balanc... -35.926971  30.013107  ...   \n",
              "/content/drive/MyDrive/cleaned_data/eval_balanc... -47.047779  -8.736856  ...   \n",
              "/content/drive/MyDrive/cleaned_data/eval_balanc... -21.493015   1.323246  ...   \n",
              "/content/drive/MyDrive/cleaned_data/eval_balanc... -16.759069  17.896383  ...   \n",
              "\n",
              "                                                      mfcc12     mfcc13  \\\n",
              "/content/drive/MyDrive/cleaned_data/eval_balanc...  0.000000   0.000000   \n",
              "/content/drive/MyDrive/cleaned_data/eval_balanc... -0.013487 -18.358383   \n",
              "/content/drive/MyDrive/cleaned_data/eval_balanc...  3.107050 -18.080997   \n",
              "/content/drive/MyDrive/cleaned_data/eval_balanc... -5.310225 -21.719917   \n",
              "/content/drive/MyDrive/cleaned_data/eval_balanc... -0.536909 -18.297926   \n",
              "\n",
              "                                                       mfcc14     mfcc15  \\\n",
              "/content/drive/MyDrive/cleaned_data/eval_balanc...   0.000000   0.000000   \n",
              "/content/drive/MyDrive/cleaned_data/eval_balanc...  10.226459 -15.888884   \n",
              "/content/drive/MyDrive/cleaned_data/eval_balanc...  -2.639697 -14.444845   \n",
              "/content/drive/MyDrive/cleaned_data/eval_balanc...  -1.442775 -15.418762   \n",
              "/content/drive/MyDrive/cleaned_data/eval_balanc...   4.023561 -18.227354   \n",
              "\n",
              "                                                      mfcc16     mfcc17  \\\n",
              "/content/drive/MyDrive/cleaned_data/eval_balanc...  0.000000   0.000000   \n",
              "/content/drive/MyDrive/cleaned_data/eval_balanc...  9.078642 -13.824585   \n",
              "/content/drive/MyDrive/cleaned_data/eval_balanc...  9.793187 -10.608210   \n",
              "/content/drive/MyDrive/cleaned_data/eval_balanc...  3.007892 -13.602205   \n",
              "/content/drive/MyDrive/cleaned_data/eval_balanc...  7.423972 -12.853503   \n",
              "\n",
              "                                                      mfcc18     mfcc19  \\\n",
              "/content/drive/MyDrive/cleaned_data/eval_balanc...  0.000000   0.000000   \n",
              "/content/drive/MyDrive/cleaned_data/eval_balanc...  1.942911  -7.344435   \n",
              "/content/drive/MyDrive/cleaned_data/eval_balanc...  9.855652  -8.159681   \n",
              "/content/drive/MyDrive/cleaned_data/eval_balanc... -0.410611 -10.582010   \n",
              "/content/drive/MyDrive/cleaned_data/eval_balanc...  4.891646 -16.307693   \n",
              "\n",
              "                                                       mfcc20         label  \n",
              "/content/drive/MyDrive/cleaned_data/eval_balanc...   0.000000  NonEmergency  \n",
              "/content/drive/MyDrive/cleaned_data/eval_balanc...   7.727440  NonEmergency  \n",
              "/content/drive/MyDrive/cleaned_data/eval_balanc...  13.212410  NonEmergency  \n",
              "/content/drive/MyDrive/cleaned_data/eval_balanc...  -0.367853  NonEmergency  \n",
              "/content/drive/MyDrive/cleaned_data/eval_balanc...   4.050445  NonEmergency  \n",
              "\n",
              "[5 rows x 27 columns]"
            ],
            "text/html": [
              "\n",
              "  <div id=\"df-32ec392b-8bab-4458-aba7-e69f366dbcf9\">\n",
              "    <div class=\"colab-df-container\">\n",
              "      <div>\n",
              "<style scoped>\n",
              "    .dataframe tbody tr th:only-of-type {\n",
              "        vertical-align: middle;\n",
              "    }\n",
              "\n",
              "    .dataframe tbody tr th {\n",
              "        vertical-align: top;\n",
              "    }\n",
              "\n",
              "    .dataframe thead th {\n",
              "        text-align: right;\n",
              "    }\n",
              "</style>\n",
              "<table border=\"1\" class=\"dataframe\">\n",
              "  <thead>\n",
              "    <tr style=\"text-align: right;\">\n",
              "      <th></th>\n",
              "      <th>fn</th>\n",
              "      <th>chroma_stft</th>\n",
              "      <th>spectral_centroid</th>\n",
              "      <th>spectral_bandwidth</th>\n",
              "      <th>rolloff</th>\n",
              "      <th>zero_crossing_rate</th>\n",
              "      <th>mfcc1</th>\n",
              "      <th>mfcc2</th>\n",
              "      <th>mfcc3</th>\n",
              "      <th>mfcc4</th>\n",
              "      <th>...</th>\n",
              "      <th>mfcc12</th>\n",
              "      <th>mfcc13</th>\n",
              "      <th>mfcc14</th>\n",
              "      <th>mfcc15</th>\n",
              "      <th>mfcc16</th>\n",
              "      <th>mfcc17</th>\n",
              "      <th>mfcc18</th>\n",
              "      <th>mfcc19</th>\n",
              "      <th>mfcc20</th>\n",
              "      <th>label</th>\n",
              "    </tr>\n",
              "  </thead>\n",
              "  <tbody>\n",
              "    <tr>\n",
              "      <th>/content/drive/MyDrive/cleaned_data/eval_balanced/nonEmergency/301.wav</th>\n",
              "      <td>0.000000</td>\n",
              "      <td>0.000000</td>\n",
              "      <td>0.000000</td>\n",
              "      <td>0.000000</td>\n",
              "      <td>0.000000</td>\n",
              "      <td>0.000000</td>\n",
              "      <td>-1131.370850</td>\n",
              "      <td>0.000000</td>\n",
              "      <td>0.000000</td>\n",
              "      <td>0.000000</td>\n",
              "      <td>...</td>\n",
              "      <td>0.000000</td>\n",
              "      <td>0.000000</td>\n",
              "      <td>0.000000</td>\n",
              "      <td>0.000000</td>\n",
              "      <td>0.000000</td>\n",
              "      <td>0.000000</td>\n",
              "      <td>0.000000</td>\n",
              "      <td>0.000000</td>\n",
              "      <td>0.000000</td>\n",
              "      <td>NonEmergency</td>\n",
              "    </tr>\n",
              "    <tr>\n",
              "      <th>/content/drive/MyDrive/cleaned_data/eval_balanced/nonEmergency/261.wav</th>\n",
              "      <td>0.378013</td>\n",
              "      <td>0.008660</td>\n",
              "      <td>1385.118361</td>\n",
              "      <td>929.901200</td>\n",
              "      <td>2471.833882</td>\n",
              "      <td>0.216103</td>\n",
              "      <td>-331.451355</td>\n",
              "      <td>41.033829</td>\n",
              "      <td>-35.926971</td>\n",
              "      <td>30.013107</td>\n",
              "      <td>...</td>\n",
              "      <td>-0.013487</td>\n",
              "      <td>-18.358383</td>\n",
              "      <td>10.226459</td>\n",
              "      <td>-15.888884</td>\n",
              "      <td>9.078642</td>\n",
              "      <td>-13.824585</td>\n",
              "      <td>1.942911</td>\n",
              "      <td>-7.344435</td>\n",
              "      <td>7.727440</td>\n",
              "      <td>NonEmergency</td>\n",
              "    </tr>\n",
              "    <tr>\n",
              "      <th>/content/drive/MyDrive/cleaned_data/eval_balanced/nonEmergency/103.wav</th>\n",
              "      <td>0.369651</td>\n",
              "      <td>0.153829</td>\n",
              "      <td>1443.665702</td>\n",
              "      <td>949.954131</td>\n",
              "      <td>2636.513158</td>\n",
              "      <td>0.273977</td>\n",
              "      <td>19.256922</td>\n",
              "      <td>31.000765</td>\n",
              "      <td>-47.047779</td>\n",
              "      <td>-8.736856</td>\n",
              "      <td>...</td>\n",
              "      <td>3.107050</td>\n",
              "      <td>-18.080997</td>\n",
              "      <td>-2.639697</td>\n",
              "      <td>-14.444845</td>\n",
              "      <td>9.793187</td>\n",
              "      <td>-10.608210</td>\n",
              "      <td>9.855652</td>\n",
              "      <td>-8.159681</td>\n",
              "      <td>13.212410</td>\n",
              "      <td>NonEmergency</td>\n",
              "    </tr>\n",
              "    <tr>\n",
              "      <th>/content/drive/MyDrive/cleaned_data/eval_balanced/nonEmergency/260.wav</th>\n",
              "      <td>0.201255</td>\n",
              "      <td>0.153586</td>\n",
              "      <td>717.285793</td>\n",
              "      <td>692.383826</td>\n",
              "      <td>1209.498355</td>\n",
              "      <td>0.078819</td>\n",
              "      <td>-97.409050</td>\n",
              "      <td>122.995461</td>\n",
              "      <td>-21.493015</td>\n",
              "      <td>1.323246</td>\n",
              "      <td>...</td>\n",
              "      <td>-5.310225</td>\n",
              "      <td>-21.719917</td>\n",
              "      <td>-1.442775</td>\n",
              "      <td>-15.418762</td>\n",
              "      <td>3.007892</td>\n",
              "      <td>-13.602205</td>\n",
              "      <td>-0.410611</td>\n",
              "      <td>-10.582010</td>\n",
              "      <td>-0.367853</td>\n",
              "      <td>NonEmergency</td>\n",
              "    </tr>\n",
              "    <tr>\n",
              "      <th>/content/drive/MyDrive/cleaned_data/eval_balanced/nonEmergency/263.wav</th>\n",
              "      <td>0.659377</td>\n",
              "      <td>0.013416</td>\n",
              "      <td>1620.158233</td>\n",
              "      <td>1054.407797</td>\n",
              "      <td>2938.527961</td>\n",
              "      <td>0.316895</td>\n",
              "      <td>-206.687820</td>\n",
              "      <td>28.353741</td>\n",
              "      <td>-16.759069</td>\n",
              "      <td>17.896383</td>\n",
              "      <td>...</td>\n",
              "      <td>-0.536909</td>\n",
              "      <td>-18.297926</td>\n",
              "      <td>4.023561</td>\n",
              "      <td>-18.227354</td>\n",
              "      <td>7.423972</td>\n",
              "      <td>-12.853503</td>\n",
              "      <td>4.891646</td>\n",
              "      <td>-16.307693</td>\n",
              "      <td>4.050445</td>\n",
              "      <td>NonEmergency</td>\n",
              "    </tr>\n",
              "  </tbody>\n",
              "</table>\n",
              "<p>5 rows × 27 columns</p>\n",
              "</div>\n",
              "      <button class=\"colab-df-convert\" onclick=\"convertToInteractive('df-32ec392b-8bab-4458-aba7-e69f366dbcf9')\"\n",
              "              title=\"Convert this dataframe to an interactive table.\"\n",
              "              style=\"display:none;\">\n",
              "        \n",
              "  <svg xmlns=\"http://www.w3.org/2000/svg\" height=\"24px\"viewBox=\"0 0 24 24\"\n",
              "       width=\"24px\">\n",
              "    <path d=\"M0 0h24v24H0V0z\" fill=\"none\"/>\n",
              "    <path d=\"M18.56 5.44l.94 2.06.94-2.06 2.06-.94-2.06-.94-.94-2.06-.94 2.06-2.06.94zm-11 1L8.5 8.5l.94-2.06 2.06-.94-2.06-.94L8.5 2.5l-.94 2.06-2.06.94zm10 10l.94 2.06.94-2.06 2.06-.94-2.06-.94-.94-2.06-.94 2.06-2.06.94z\"/><path d=\"M17.41 7.96l-1.37-1.37c-.4-.4-.92-.59-1.43-.59-.52 0-1.04.2-1.43.59L10.3 9.45l-7.72 7.72c-.78.78-.78 2.05 0 2.83L4 21.41c.39.39.9.59 1.41.59.51 0 1.02-.2 1.41-.59l7.78-7.78 2.81-2.81c.8-.78.8-2.07 0-2.86zM5.41 20L4 18.59l7.72-7.72 1.47 1.35L5.41 20z\"/>\n",
              "  </svg>\n",
              "      </button>\n",
              "      \n",
              "  <style>\n",
              "    .colab-df-container {\n",
              "      display:flex;\n",
              "      flex-wrap:wrap;\n",
              "      gap: 12px;\n",
              "    }\n",
              "\n",
              "    .colab-df-convert {\n",
              "      background-color: #E8F0FE;\n",
              "      border: none;\n",
              "      border-radius: 50%;\n",
              "      cursor: pointer;\n",
              "      display: none;\n",
              "      fill: #1967D2;\n",
              "      height: 32px;\n",
              "      padding: 0 0 0 0;\n",
              "      width: 32px;\n",
              "    }\n",
              "\n",
              "    .colab-df-convert:hover {\n",
              "      background-color: #E2EBFA;\n",
              "      box-shadow: 0px 1px 2px rgba(60, 64, 67, 0.3), 0px 1px 3px 1px rgba(60, 64, 67, 0.15);\n",
              "      fill: #174EA6;\n",
              "    }\n",
              "\n",
              "    [theme=dark] .colab-df-convert {\n",
              "      background-color: #3B4455;\n",
              "      fill: #D2E3FC;\n",
              "    }\n",
              "\n",
              "    [theme=dark] .colab-df-convert:hover {\n",
              "      background-color: #434B5C;\n",
              "      box-shadow: 0px 1px 3px 1px rgba(0, 0, 0, 0.15);\n",
              "      filter: drop-shadow(0px 1px 2px rgba(0, 0, 0, 0.3));\n",
              "      fill: #FFFFFF;\n",
              "    }\n",
              "  </style>\n",
              "\n",
              "      <script>\n",
              "        const buttonEl =\n",
              "          document.querySelector('#df-32ec392b-8bab-4458-aba7-e69f366dbcf9 button.colab-df-convert');\n",
              "        buttonEl.style.display =\n",
              "          google.colab.kernel.accessAllowed ? 'block' : 'none';\n",
              "\n",
              "        async function convertToInteractive(key) {\n",
              "          const element = document.querySelector('#df-32ec392b-8bab-4458-aba7-e69f366dbcf9');\n",
              "          const dataTable =\n",
              "            await google.colab.kernel.invokeFunction('convertToInteractive',\n",
              "                                                     [key], {});\n",
              "          if (!dataTable) return;\n",
              "\n",
              "          const docLinkHtml = 'Like what you see? Visit the ' +\n",
              "            '<a target=\"_blank\" href=https://colab.research.google.com/notebooks/data_table.ipynb>data table notebook</a>'\n",
              "            + ' to learn more about interactive tables.';\n",
              "          element.innerHTML = '';\n",
              "          dataTable['output_type'] = 'display_data';\n",
              "          await google.colab.output.renderOutput(dataTable, element);\n",
              "          const docLink = document.createElement('div');\n",
              "          docLink.innerHTML = docLinkHtml;\n",
              "          element.appendChild(docLink);\n",
              "        }\n",
              "      </script>\n",
              "    </div>\n",
              "  </div>\n",
              "  "
            ]
          },
          "metadata": {},
          "execution_count": 14
        }
      ]
    },
    {
      "cell_type": "code",
      "source": [
        "print(data.label.value_counts())\n",
        "print(data_1.label.value_counts())"
      ],
      "metadata": {
        "id": "mXcEZzq9RcNZ",
        "colab": {
          "base_uri": "https://localhost:8080/"
        },
        "outputId": "73859a55-78c4-45fc-f39c-cf6083f4101f"
      },
      "execution_count": null,
      "outputs": [
        {
          "output_type": "stream",
          "name": "stdout",
          "text": [
            "Emergency    134\n",
            "Name: label, dtype: int64\n",
            "NonEmergency    105\n",
            "Name: label, dtype: int64\n"
          ]
        }
      ]
    },
    {
      "cell_type": "code",
      "source": [
        "train = pd.concat([data , data_1]) "
      ],
      "metadata": {
        "id": "dx9Uz5-nRgKd"
      },
      "execution_count": null,
      "outputs": []
    },
    {
      "cell_type": "code",
      "source": [
        "print(data.shape)\n",
        "print(data_1.shape)\n",
        "print(train.shape)\n"
      ],
      "metadata": {
        "id": "Qsu-TcbURhsA",
        "colab": {
          "base_uri": "https://localhost:8080/"
        },
        "outputId": "7b667b70-f98d-4edf-b6d7-e77345fa0a82"
      },
      "execution_count": null,
      "outputs": [
        {
          "output_type": "stream",
          "name": "stdout",
          "text": [
            "(134, 27)\n",
            "(105, 27)\n",
            "(239, 27)\n"
          ]
        }
      ]
    },
    {
      "cell_type": "code",
      "source": [
        "train.label.value_counts()"
      ],
      "metadata": {
        "id": "lpvKlLSsRkGg",
        "colab": {
          "base_uri": "https://localhost:8080/"
        },
        "outputId": "df2277ef-aa99-45fc-8f61-deee3085bf44"
      },
      "execution_count": null,
      "outputs": [
        {
          "output_type": "execute_result",
          "data": {
            "text/plain": [
              "Emergency       134\n",
              "NonEmergency    105\n",
              "Name: label, dtype: int64"
            ]
          },
          "metadata": {},
          "execution_count": 18
        }
      ]
    },
    {
      "cell_type": "code",
      "source": [
        "import pandas as pd\n",
        "import numpy as np\n",
        "import matplotlib.pyplot as plt\n",
        "%matplotlib inline\n",
        "\n",
        "from sklearn.model_selection import train_test_split\n",
        "from sklearn.preprocessing import LabelEncoder, StandardScaler\n",
        "\n",
        "import keras\n",
        "from keras import layers\n",
        "from keras import layers\n",
        "import keras\n",
        "from keras.models import Sequential\n",
        "import warnings\n",
        "warnings.filterwarnings('ignore')"
      ],
      "metadata": {
        "id": "u4byCY4ARoI9"
      },
      "execution_count": null,
      "outputs": []
    },
    {
      "cell_type": "code",
      "source": [
        "train.head(5)"
      ],
      "metadata": {
        "id": "7lFQV-jMSd6T",
        "colab": {
          "base_uri": "https://localhost:8080/",
          "height": 299
        },
        "outputId": "fcf23ffb-17be-450d-cc56-4c596dfb3b60"
      },
      "execution_count": null,
      "outputs": [
        {
          "output_type": "execute_result",
          "data": {
            "text/plain": [
              "                                                          fn  chroma_stft  \\\n",
              "/content/drive/MyDrive/cleaned_data/eval_balanc...  0.359888     0.022418   \n",
              "/content/drive/MyDrive/cleaned_data/eval_balanc...  0.184713     0.261795   \n",
              "/content/drive/MyDrive/cleaned_data/eval_balanc...  0.296703     0.086959   \n",
              "/content/drive/MyDrive/cleaned_data/eval_balanc...  0.236266     0.150544   \n",
              "/content/drive/MyDrive/cleaned_data/eval_balanc...  0.398128     0.172077   \n",
              "\n",
              "                                                    spectral_centroid  \\\n",
              "/content/drive/MyDrive/cleaned_data/eval_balanc...        1691.023429   \n",
              "/content/drive/MyDrive/cleaned_data/eval_balanc...        1386.270311   \n",
              "/content/drive/MyDrive/cleaned_data/eval_balanc...        1110.008709   \n",
              "/content/drive/MyDrive/cleaned_data/eval_balanc...        1630.643238   \n",
              "/content/drive/MyDrive/cleaned_data/eval_balanc...        1121.344126   \n",
              "\n",
              "                                                    spectral_bandwidth  \\\n",
              "/content/drive/MyDrive/cleaned_data/eval_balanc...         1050.217875   \n",
              "/content/drive/MyDrive/cleaned_data/eval_balanc...          867.037838   \n",
              "/content/drive/MyDrive/cleaned_data/eval_balanc...          823.776240   \n",
              "/content/drive/MyDrive/cleaned_data/eval_balanc...         1015.411253   \n",
              "/content/drive/MyDrive/cleaned_data/eval_balanc...          880.769551   \n",
              "\n",
              "                                                        rolloff  \\\n",
              "/content/drive/MyDrive/cleaned_data/eval_balanc...  3053.865132   \n",
              "/content/drive/MyDrive/cleaned_data/eval_balanc...  2484.991776   \n",
              "/content/drive/MyDrive/cleaned_data/eval_balanc...  1973.273026   \n",
              "/content/drive/MyDrive/cleaned_data/eval_balanc...  3015.008224   \n",
              "/content/drive/MyDrive/cleaned_data/eval_balanc...  2095.805921   \n",
              "\n",
              "                                                    zero_crossing_rate  \\\n",
              "/content/drive/MyDrive/cleaned_data/eval_balanc...            0.341797   \n",
              "/content/drive/MyDrive/cleaned_data/eval_balanc...            0.250051   \n",
              "/content/drive/MyDrive/cleaned_data/eval_balanc...            0.219521   \n",
              "/content/drive/MyDrive/cleaned_data/eval_balanc...            0.328253   \n",
              "/content/drive/MyDrive/cleaned_data/eval_balanc...            0.208316   \n",
              "\n",
              "                                                         mfcc1      mfcc2  \\\n",
              "/content/drive/MyDrive/cleaned_data/eval_balanc... -176.199875   9.396546   \n",
              "/content/drive/MyDrive/cleaned_data/eval_balanc...   16.246666  31.595346   \n",
              "/content/drive/MyDrive/cleaned_data/eval_balanc...  -71.506096  77.245155   \n",
              "/content/drive/MyDrive/cleaned_data/eval_balanc...  -65.522743  22.495201   \n",
              "/content/drive/MyDrive/cleaned_data/eval_balanc...   25.736961  76.779335   \n",
              "\n",
              "                                                        mfcc3      mfcc4  ...  \\\n",
              "/content/drive/MyDrive/cleaned_data/eval_balanc... -26.900452 -23.563782  ...   \n",
              "/content/drive/MyDrive/cleaned_data/eval_balanc... -43.716919   4.178284  ...   \n",
              "/content/drive/MyDrive/cleaned_data/eval_balanc... -39.881645  10.596503  ...   \n",
              "/content/drive/MyDrive/cleaned_data/eval_balanc...  -3.594737  14.181441  ...   \n",
              "/content/drive/MyDrive/cleaned_data/eval_balanc... -33.327293  10.376517  ...   \n",
              "\n",
              "                                                       mfcc12     mfcc13  \\\n",
              "/content/drive/MyDrive/cleaned_data/eval_balanc...  11.180789  -4.846173   \n",
              "/content/drive/MyDrive/cleaned_data/eval_balanc...  11.812840  -3.162781   \n",
              "/content/drive/MyDrive/cleaned_data/eval_balanc...   5.542479 -17.292812   \n",
              "/content/drive/MyDrive/cleaned_data/eval_balanc...  27.544928   9.073138   \n",
              "/content/drive/MyDrive/cleaned_data/eval_balanc...  -4.165341 -19.773989   \n",
              "\n",
              "                                                      mfcc14     mfcc15  \\\n",
              "/content/drive/MyDrive/cleaned_data/eval_balanc...  5.861305 -12.960463   \n",
              "/content/drive/MyDrive/cleaned_data/eval_balanc...  1.284324 -14.624017   \n",
              "/content/drive/MyDrive/cleaned_data/eval_balanc... -1.127933 -19.014076   \n",
              "/content/drive/MyDrive/cleaned_data/eval_balanc... -2.342510 -41.532642   \n",
              "/content/drive/MyDrive/cleaned_data/eval_balanc...  1.516146 -23.156332   \n",
              "\n",
              "                                                       mfcc16     mfcc17  \\\n",
              "/content/drive/MyDrive/cleaned_data/eval_balanc...   0.016321  -8.153287   \n",
              "/content/drive/MyDrive/cleaned_data/eval_balanc...  12.920669  -4.154139   \n",
              "/content/drive/MyDrive/cleaned_data/eval_balanc...  -2.651380 -13.399012   \n",
              "/content/drive/MyDrive/cleaned_data/eval_balanc...  13.235374  -1.654400   \n",
              "/content/drive/MyDrive/cleaned_data/eval_balanc...  15.485725 -10.933682   \n",
              "\n",
              "                                                       mfcc18     mfcc19  \\\n",
              "/content/drive/MyDrive/cleaned_data/eval_balanc...   5.809633 -16.402901   \n",
              "/content/drive/MyDrive/cleaned_data/eval_balanc...  12.581067 -10.153343   \n",
              "/content/drive/MyDrive/cleaned_data/eval_balanc...   6.426832  -8.545753   \n",
              "/content/drive/MyDrive/cleaned_data/eval_balanc... -11.185779 -14.710364   \n",
              "/content/drive/MyDrive/cleaned_data/eval_balanc...  -2.958074 -12.240003   \n",
              "\n",
              "                                                       mfcc20      label  \n",
              "/content/drive/MyDrive/cleaned_data/eval_balanc...   1.043569  Emergency  \n",
              "/content/drive/MyDrive/cleaned_data/eval_balanc...   7.445230  Emergency  \n",
              "/content/drive/MyDrive/cleaned_data/eval_balanc...   3.339379  Emergency  \n",
              "/content/drive/MyDrive/cleaned_data/eval_balanc...  15.451639  Emergency  \n",
              "/content/drive/MyDrive/cleaned_data/eval_balanc...  -1.391870  Emergency  \n",
              "\n",
              "[5 rows x 27 columns]"
            ],
            "text/html": [
              "\n",
              "  <div id=\"df-04a7a054-f176-4781-87ff-9cae9176488c\">\n",
              "    <div class=\"colab-df-container\">\n",
              "      <div>\n",
              "<style scoped>\n",
              "    .dataframe tbody tr th:only-of-type {\n",
              "        vertical-align: middle;\n",
              "    }\n",
              "\n",
              "    .dataframe tbody tr th {\n",
              "        vertical-align: top;\n",
              "    }\n",
              "\n",
              "    .dataframe thead th {\n",
              "        text-align: right;\n",
              "    }\n",
              "</style>\n",
              "<table border=\"1\" class=\"dataframe\">\n",
              "  <thead>\n",
              "    <tr style=\"text-align: right;\">\n",
              "      <th></th>\n",
              "      <th>fn</th>\n",
              "      <th>chroma_stft</th>\n",
              "      <th>spectral_centroid</th>\n",
              "      <th>spectral_bandwidth</th>\n",
              "      <th>rolloff</th>\n",
              "      <th>zero_crossing_rate</th>\n",
              "      <th>mfcc1</th>\n",
              "      <th>mfcc2</th>\n",
              "      <th>mfcc3</th>\n",
              "      <th>mfcc4</th>\n",
              "      <th>...</th>\n",
              "      <th>mfcc12</th>\n",
              "      <th>mfcc13</th>\n",
              "      <th>mfcc14</th>\n",
              "      <th>mfcc15</th>\n",
              "      <th>mfcc16</th>\n",
              "      <th>mfcc17</th>\n",
              "      <th>mfcc18</th>\n",
              "      <th>mfcc19</th>\n",
              "      <th>mfcc20</th>\n",
              "      <th>label</th>\n",
              "    </tr>\n",
              "  </thead>\n",
              "  <tbody>\n",
              "    <tr>\n",
              "      <th>/content/drive/MyDrive/cleaned_data/eval_balanced/Emergency/111.wav</th>\n",
              "      <td>0.359888</td>\n",
              "      <td>0.022418</td>\n",
              "      <td>1691.023429</td>\n",
              "      <td>1050.217875</td>\n",
              "      <td>3053.865132</td>\n",
              "      <td>0.341797</td>\n",
              "      <td>-176.199875</td>\n",
              "      <td>9.396546</td>\n",
              "      <td>-26.900452</td>\n",
              "      <td>-23.563782</td>\n",
              "      <td>...</td>\n",
              "      <td>11.180789</td>\n",
              "      <td>-4.846173</td>\n",
              "      <td>5.861305</td>\n",
              "      <td>-12.960463</td>\n",
              "      <td>0.016321</td>\n",
              "      <td>-8.153287</td>\n",
              "      <td>5.809633</td>\n",
              "      <td>-16.402901</td>\n",
              "      <td>1.043569</td>\n",
              "      <td>Emergency</td>\n",
              "    </tr>\n",
              "    <tr>\n",
              "      <th>/content/drive/MyDrive/cleaned_data/eval_balanced/Emergency/38.wav</th>\n",
              "      <td>0.184713</td>\n",
              "      <td>0.261795</td>\n",
              "      <td>1386.270311</td>\n",
              "      <td>867.037838</td>\n",
              "      <td>2484.991776</td>\n",
              "      <td>0.250051</td>\n",
              "      <td>16.246666</td>\n",
              "      <td>31.595346</td>\n",
              "      <td>-43.716919</td>\n",
              "      <td>4.178284</td>\n",
              "      <td>...</td>\n",
              "      <td>11.812840</td>\n",
              "      <td>-3.162781</td>\n",
              "      <td>1.284324</td>\n",
              "      <td>-14.624017</td>\n",
              "      <td>12.920669</td>\n",
              "      <td>-4.154139</td>\n",
              "      <td>12.581067</td>\n",
              "      <td>-10.153343</td>\n",
              "      <td>7.445230</td>\n",
              "      <td>Emergency</td>\n",
              "    </tr>\n",
              "    <tr>\n",
              "      <th>/content/drive/MyDrive/cleaned_data/eval_balanced/Emergency/116.wav</th>\n",
              "      <td>0.296703</td>\n",
              "      <td>0.086959</td>\n",
              "      <td>1110.008709</td>\n",
              "      <td>823.776240</td>\n",
              "      <td>1973.273026</td>\n",
              "      <td>0.219521</td>\n",
              "      <td>-71.506096</td>\n",
              "      <td>77.245155</td>\n",
              "      <td>-39.881645</td>\n",
              "      <td>10.596503</td>\n",
              "      <td>...</td>\n",
              "      <td>5.542479</td>\n",
              "      <td>-17.292812</td>\n",
              "      <td>-1.127933</td>\n",
              "      <td>-19.014076</td>\n",
              "      <td>-2.651380</td>\n",
              "      <td>-13.399012</td>\n",
              "      <td>6.426832</td>\n",
              "      <td>-8.545753</td>\n",
              "      <td>3.339379</td>\n",
              "      <td>Emergency</td>\n",
              "    </tr>\n",
              "    <tr>\n",
              "      <th>/content/drive/MyDrive/cleaned_data/eval_balanced/Emergency/16.wav</th>\n",
              "      <td>0.236266</td>\n",
              "      <td>0.150544</td>\n",
              "      <td>1630.643238</td>\n",
              "      <td>1015.411253</td>\n",
              "      <td>3015.008224</td>\n",
              "      <td>0.328253</td>\n",
              "      <td>-65.522743</td>\n",
              "      <td>22.495201</td>\n",
              "      <td>-3.594737</td>\n",
              "      <td>14.181441</td>\n",
              "      <td>...</td>\n",
              "      <td>27.544928</td>\n",
              "      <td>9.073138</td>\n",
              "      <td>-2.342510</td>\n",
              "      <td>-41.532642</td>\n",
              "      <td>13.235374</td>\n",
              "      <td>-1.654400</td>\n",
              "      <td>-11.185779</td>\n",
              "      <td>-14.710364</td>\n",
              "      <td>15.451639</td>\n",
              "      <td>Emergency</td>\n",
              "    </tr>\n",
              "    <tr>\n",
              "      <th>/content/drive/MyDrive/cleaned_data/eval_balanced/Emergency/102.wav</th>\n",
              "      <td>0.398128</td>\n",
              "      <td>0.172077</td>\n",
              "      <td>1121.344126</td>\n",
              "      <td>880.769551</td>\n",
              "      <td>2095.805921</td>\n",
              "      <td>0.208316</td>\n",
              "      <td>25.736961</td>\n",
              "      <td>76.779335</td>\n",
              "      <td>-33.327293</td>\n",
              "      <td>10.376517</td>\n",
              "      <td>...</td>\n",
              "      <td>-4.165341</td>\n",
              "      <td>-19.773989</td>\n",
              "      <td>1.516146</td>\n",
              "      <td>-23.156332</td>\n",
              "      <td>15.485725</td>\n",
              "      <td>-10.933682</td>\n",
              "      <td>-2.958074</td>\n",
              "      <td>-12.240003</td>\n",
              "      <td>-1.391870</td>\n",
              "      <td>Emergency</td>\n",
              "    </tr>\n",
              "  </tbody>\n",
              "</table>\n",
              "<p>5 rows × 27 columns</p>\n",
              "</div>\n",
              "      <button class=\"colab-df-convert\" onclick=\"convertToInteractive('df-04a7a054-f176-4781-87ff-9cae9176488c')\"\n",
              "              title=\"Convert this dataframe to an interactive table.\"\n",
              "              style=\"display:none;\">\n",
              "        \n",
              "  <svg xmlns=\"http://www.w3.org/2000/svg\" height=\"24px\"viewBox=\"0 0 24 24\"\n",
              "       width=\"24px\">\n",
              "    <path d=\"M0 0h24v24H0V0z\" fill=\"none\"/>\n",
              "    <path d=\"M18.56 5.44l.94 2.06.94-2.06 2.06-.94-2.06-.94-.94-2.06-.94 2.06-2.06.94zm-11 1L8.5 8.5l.94-2.06 2.06-.94-2.06-.94L8.5 2.5l-.94 2.06-2.06.94zm10 10l.94 2.06.94-2.06 2.06-.94-2.06-.94-.94-2.06-.94 2.06-2.06.94z\"/><path d=\"M17.41 7.96l-1.37-1.37c-.4-.4-.92-.59-1.43-.59-.52 0-1.04.2-1.43.59L10.3 9.45l-7.72 7.72c-.78.78-.78 2.05 0 2.83L4 21.41c.39.39.9.59 1.41.59.51 0 1.02-.2 1.41-.59l7.78-7.78 2.81-2.81c.8-.78.8-2.07 0-2.86zM5.41 20L4 18.59l7.72-7.72 1.47 1.35L5.41 20z\"/>\n",
              "  </svg>\n",
              "      </button>\n",
              "      \n",
              "  <style>\n",
              "    .colab-df-container {\n",
              "      display:flex;\n",
              "      flex-wrap:wrap;\n",
              "      gap: 12px;\n",
              "    }\n",
              "\n",
              "    .colab-df-convert {\n",
              "      background-color: #E8F0FE;\n",
              "      border: none;\n",
              "      border-radius: 50%;\n",
              "      cursor: pointer;\n",
              "      display: none;\n",
              "      fill: #1967D2;\n",
              "      height: 32px;\n",
              "      padding: 0 0 0 0;\n",
              "      width: 32px;\n",
              "    }\n",
              "\n",
              "    .colab-df-convert:hover {\n",
              "      background-color: #E2EBFA;\n",
              "      box-shadow: 0px 1px 2px rgba(60, 64, 67, 0.3), 0px 1px 3px 1px rgba(60, 64, 67, 0.15);\n",
              "      fill: #174EA6;\n",
              "    }\n",
              "\n",
              "    [theme=dark] .colab-df-convert {\n",
              "      background-color: #3B4455;\n",
              "      fill: #D2E3FC;\n",
              "    }\n",
              "\n",
              "    [theme=dark] .colab-df-convert:hover {\n",
              "      background-color: #434B5C;\n",
              "      box-shadow: 0px 1px 3px 1px rgba(0, 0, 0, 0.15);\n",
              "      filter: drop-shadow(0px 1px 2px rgba(0, 0, 0, 0.3));\n",
              "      fill: #FFFFFF;\n",
              "    }\n",
              "  </style>\n",
              "\n",
              "      <script>\n",
              "        const buttonEl =\n",
              "          document.querySelector('#df-04a7a054-f176-4781-87ff-9cae9176488c button.colab-df-convert');\n",
              "        buttonEl.style.display =\n",
              "          google.colab.kernel.accessAllowed ? 'block' : 'none';\n",
              "\n",
              "        async function convertToInteractive(key) {\n",
              "          const element = document.querySelector('#df-04a7a054-f176-4781-87ff-9cae9176488c');\n",
              "          const dataTable =\n",
              "            await google.colab.kernel.invokeFunction('convertToInteractive',\n",
              "                                                     [key], {});\n",
              "          if (!dataTable) return;\n",
              "\n",
              "          const docLinkHtml = 'Like what you see? Visit the ' +\n",
              "            '<a target=\"_blank\" href=https://colab.research.google.com/notebooks/data_table.ipynb>data table notebook</a>'\n",
              "            + ' to learn more about interactive tables.';\n",
              "          element.innerHTML = '';\n",
              "          dataTable['output_type'] = 'display_data';\n",
              "          await google.colab.output.renderOutput(dataTable, element);\n",
              "          const docLink = document.createElement('div');\n",
              "          docLink.innerHTML = docLinkHtml;\n",
              "          element.appendChild(docLink);\n",
              "        }\n",
              "      </script>\n",
              "    </div>\n",
              "  </div>\n",
              "  "
            ]
          },
          "metadata": {},
          "execution_count": 20
        }
      ]
    },
    {
      "cell_type": "code",
      "source": [
        "le = LabelEncoder()\n",
        "train['label'] = le.fit_transform(train['label'])"
      ],
      "metadata": {
        "id": "21KuHhPKVW7-"
      },
      "execution_count": null,
      "outputs": []
    },
    {
      "cell_type": "code",
      "source": [
        "y = train.pop(\"label\")"
      ],
      "metadata": {
        "id": "nvICDUFEVZk2"
      },
      "execution_count": null,
      "outputs": []
    },
    {
      "cell_type": "code",
      "source": [
        "x_train, x_test, y_train, y_test = train_test_split(train, y , test_size=0.20 , random_state = 1)"
      ],
      "metadata": {
        "id": "PlJZiNSdVcun"
      },
      "execution_count": null,
      "outputs": []
    },
    {
      "cell_type": "code",
      "source": [
        "from sklearn.neighbors import KNeighborsClassifier\n",
        "model = KNeighborsClassifier()"
      ],
      "metadata": {
        "id": "csSz9S_4Vd8l"
      },
      "execution_count": null,
      "outputs": []
    },
    {
      "cell_type": "code",
      "source": [
        "model.fit(x_train , y_train)"
      ],
      "metadata": {
        "id": "1WntCtluVhvI",
        "colab": {
          "base_uri": "https://localhost:8080/"
        },
        "outputId": "c5fdc5f5-27ec-48d7-d29b-d77d9a099d0e"
      },
      "execution_count": null,
      "outputs": [
        {
          "output_type": "execute_result",
          "data": {
            "text/plain": [
              "KNeighborsClassifier()"
            ]
          },
          "metadata": {},
          "execution_count": 25
        }
      ]
    },
    {
      "cell_type": "code",
      "source": [
        "y_pred = model.predict(x_test)"
      ],
      "metadata": {
        "id": "MgVl341DVk4H"
      },
      "execution_count": null,
      "outputs": []
    },
    {
      "cell_type": "code",
      "source": [
        "from sklearn.metrics import roc_curve, auc\n",
        "false_positive_rate, true_positive_rate, thresholds = roc_curve(y_test, y_pred)\n",
        "roc_auc = auc(false_positive_rate, true_positive_rate)\n",
        "roc_auc"
      ],
      "metadata": {
        "id": "WG1wozajVmVo",
        "colab": {
          "base_uri": "https://localhost:8080/"
        },
        "outputId": "cbb9148a-0aad-40d7-eaae-c58076bd12c9"
      },
      "execution_count": null,
      "outputs": [
        {
          "output_type": "execute_result",
          "data": {
            "text/plain": [
              "0.7388888888888888"
            ]
          },
          "metadata": {},
          "execution_count": 27
        }
      ]
    },
    {
      "cell_type": "code",
      "source": [
        "from matplotlib.legend_handler import HandlerLine2D"
      ],
      "metadata": {
        "id": "JFn0KRpeVowk"
      },
      "execution_count": null,
      "outputs": []
    },
    {
      "cell_type": "code",
      "source": [
        "neighbors = list(range(1,100))\n",
        "train_results = []\n",
        "test_results = []\n",
        "for n in neighbors:\n",
        "    model = KNeighborsClassifier(n_neighbors=n)\n",
        "    model.fit(x_train, y_train)\n",
        "    train_pred = model.predict(x_train)\n",
        "    false_positive_rate, true_positive_rate, thresholds = roc_curve(y_train, train_pred)\n",
        "    roc_auc = auc(false_positive_rate, true_positive_rate)\n",
        "    train_results.append(roc_auc)\n",
        "    y_pred = model.predict(x_test)\n",
        "    false_positive_rate, true_positive_rate, thresholds = roc_curve(y_test, y_pred)\n",
        "    roc_auc = auc(false_positive_rate, true_positive_rate)\n",
        "    test_results.append(roc_auc)\n",
        "line1, = plt.plot(neighbors, train_results, \"b\" , label = \"train_auc\")\n",
        "line2, = plt.plot(neighbors, test_results, \"r\" , label = \"test_auc\")\n",
        "plt.legend(handler_map={line1: HandlerLine2D(numpoints=2)})\n",
        "plt.ylabel(\"AUC score\")\n",
        "plt.xlabel(\"n_neighbors\")"
      ],
      "metadata": {
        "id": "sUrImsfMVqSs",
        "colab": {
          "base_uri": "https://localhost:8080/",
          "height": 297
        },
        "outputId": "dd596020-9098-446e-81ee-66393cca7e27"
      },
      "execution_count": null,
      "outputs": [
        {
          "output_type": "execute_result",
          "data": {
            "text/plain": [
              "Text(0.5, 0, 'n_neighbors')"
            ]
          },
          "metadata": {},
          "execution_count": 34
        },
        {
          "output_type": "display_data",
          "data": {
            "text/plain": [
              "<Figure size 432x288 with 1 Axes>"
            ],
            "image/png": "[encoded data removed]"
          },
          "metadata": {
            "needs_background": "light"
          }
        }
      ]
    },
    {
      "cell_type": "code",
      "source": [
        "from sklearn.neighbors import KNeighborsClassifier\n",
        "model1 = KNeighborsClassifier(n_neighbors=20)"
      ],
      "metadata": {
        "id": "Ah7tBmAe6hAc"
      },
      "execution_count": null,
      "outputs": []
    },
    {
      "cell_type": "code",
      "source": [
        "model1.fit(x_train , y_train)"
      ],
      "metadata": {
        "colab": {
          "base_uri": "https://localhost:8080/"
        },
        "id": "8Mm4VY1O6qAy",
        "outputId": "7d571f76-a8c8-4d2f-d6b9-c4b557a31e1c"
      },
      "execution_count": null,
      "outputs": [
        {
          "output_type": "execute_result",
          "data": {
            "text/plain": [
              "KNeighborsClassifier(n_neighbors=20)"
            ]
          },
          "metadata": {},
          "execution_count": 54
        }
      ]
    },
    {
      "cell_type": "code",
      "source": [
        "y_pred1 = model1.predict(x_test)"
      ],
      "metadata": {
        "id": "PCz3n24y6tdx"
      },
      "execution_count": null,
      "outputs": []
    },
    {
      "cell_type": "code",
      "source": [
        "from sklearn.metrics import roc_curve, auc\n",
        "false_positive_rate, true_positive_rate, thresholds = roc_curve(y_test, y_pred1)\n",
        "roc_auc = auc(false_positive_rate, true_positive_rate)\n",
        "roc_auc"
      ],
      "metadata": {
        "colab": {
          "base_uri": "https://localhost:8080/"
        },
        "id": "-DRtUbxk6xEZ",
        "outputId": "27afd328-bf06-4878-d5e4-63f1018f6e56"
      },
      "execution_count": null,
      "outputs": [
        {
          "output_type": "execute_result",
          "data": {
            "text/plain": [
              "0.7555555555555556"
            ]
          },
          "metadata": {},
          "execution_count": 56
        }
      ]
    }
  ]
}